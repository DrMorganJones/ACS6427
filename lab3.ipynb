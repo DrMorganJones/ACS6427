{
  "cells": [
    {
      "cell_type": "markdown",
      "id": "9b2e3165",
      "metadata": {
        "id": "9b2e3165"
      },
      "source": [
        "# 🧪 Lab 1: Linear Regression\n",
        "\n",
        "---\n",
        "\n",
        "### 🎯 **Learning Objectives**\n",
        "- Understand the concept of linear regression.\n",
        "- Implement linear regression using scikit-learn.\n",
        "- Visualize the regression line and interpret the results.\n",
        "\n",
        "---"
      ]
    },
    {
      "cell_type": "markdown",
      "id": "e5f7355d",
      "metadata": {
        "id": "e5f7355d"
      },
      "source": [
        "### 🔧 **Setup**"
      ]
    },
    {
      "cell_type": "code",
      "execution_count": null,
      "id": "bb612d1d",
      "metadata": {
        "id": "bb612d1d"
      },
      "outputs": [],
      "source": [
        "# Install required packages (if not already installed)\n",
        "# !pip install matplotlib scikit-learn\n",
        "\n",
        "import numpy as np\n",
        "import matplotlib.pyplot as plt\n",
        "from sklearn.linear_model import LinearRegression\n",
        "from sklearn.metrics import mean_squared_error, r2_score"
      ]
    },
    {
      "cell_type": "markdown",
      "id": "51781280",
      "metadata": {
        "id": "51781280"
      },
      "source": [
        "### 📘 **Part 1: Generate Synthetic Data**"
      ]
    },
    {
      "cell_type": "code",
      "execution_count": null,
      "id": "d806f007",
      "metadata": {
        "id": "d806f007"
      },
      "outputs": [],
      "source": [
        "# Generate data with a linear trend + noise\n",
        "np.random.seed(0)\n",
        "X = 2 * np.random.rand(100, 1)\n",
        "y = 4 + 3 * X + np.random.randn(100, 1)\n",
        "\n",
        "# Plot the data\n",
        "plt.scatter(X, y, alpha=0.7)\n",
        "plt.xlabel(\"X\")\n",
        "plt.ylabel(\"y\")\n",
        "plt.title(\"Synthetic Data for Linear Regression\")\n",
        "plt.show()"
      ]
    },
    {
      "cell_type": "markdown",
      "id": "f662f54d",
      "metadata": {
        "id": "f662f54d"
      },
      "source": [
        "### 💻 **Part 2: Fit a Linear Regression Model**"
      ]
    },
    {
      "cell_type": "code",
      "execution_count": null,
      "id": "0dffb0a1",
      "metadata": {
        "id": "0dffb0a1"
      },
      "outputs": [],
      "source": [
        "# Fit a linear regression model\n",
        "model = LinearRegression()\n",
        "model.fit(X, y)\n",
        "\n",
        "# Predict values\n",
        "y_pred = model.predict(X)\n",
        "\n",
        "# Plot regression line\n",
        "plt.scatter(X, y, alpha=0.7, label=\"Data\")\n",
        "plt.plot(X, y_pred, color=\"red\", linewidth=2, label=\"Regression line\")\n",
        "plt.xlabel(\"X\")\n",
        "plt.ylabel(\"y\")\n",
        "plt.legend()\n",
        "plt.title(\"Fitted Linear Regression\")\n",
        "plt.show()"
      ]
    },
    {
      "cell_type": "markdown",
      "id": "15a7defd",
      "metadata": {
        "id": "15a7defd"
      },
      "source": [
        "### 🧠 **Part 3: Evaluate the Model**"
      ]
    },
    {
      "cell_type": "code",
      "execution_count": null,
      "id": "3bf97eb0",
      "metadata": {
        "id": "3bf97eb0"
      },
      "outputs": [],
      "source": [
        "print(\"Slope (coefficient):\", model.coef_[0][0])\n",
        "print(\"Intercept:\", model.intercept_[0])\n",
        "print(\"Mean Squared Error:\", mean_squared_error(y, y_pred))\n",
        "print(\"R^2 Score:\", r2_score(y, y_pred))"
      ]
    },
    {
      "cell_type": "markdown",
      "id": "6b3abbd2",
      "metadata": {
        "id": "6b3abbd2"
      },
      "source": [
        "**📝 Reflection:**\n",
        "- What does the R² score tell you about model performance?\n",
        "- How would the fit change if noise was larger?"
      ]
    },
    {
      "cell_type": "markdown",
      "id": "3fbef54a",
      "metadata": {
        "id": "3fbef54a"
      },
      "source": [
        "### ✅ **Summary**\n",
        "- Implemented linear regression on synthetic data.\n",
        "- Visualized the regression line.\n",
        "- Evaluated model performance with R² and MSE."
      ]
    }
  ],
  "metadata": {
    "colab": {
      "provenance": []
    },
    "language_info": {
      "name": "python"
    },
    "kernelspec": {
      "name": "python3",
      "display_name": "Python 3"
    }
  },
  "nbformat": 4,
  "nbformat_minor": 5
}